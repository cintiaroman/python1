{
  "cells": [
    {
      "cell_type": "markdown",
      "metadata": {
        "id": "view-in-github",
        "colab_type": "text"
      },
      "source": [
        "<a href=\"https://colab.research.google.com/github/cintiaroman/python1/blob/main/src/content/es_notebooks/syntax-basic/Input-and-Output_input.ipynb\" target=\"_parent\"><img src=\"https://colab.research.google.com/assets/colab-badge.svg\" alt=\"Open In Colab\"/></a>"
      ]
    },
    {
      "cell_type": "code",
      "execution_count": null,
      "id": "f4c22673",
      "metadata": {
        "vscode": {
          "languageId": "plaintext"
        },
        "id": "f4c22673"
      },
      "outputs": [],
      "source": [
        "# input()\n",
        "nombre = input('¿Cuál es tu nombre?')\n",
        "print('Hola, ' + nombre + '!')"
      ]
    }
  ],
  "metadata": {
    "language_info": {
      "name": "python"
    },
    "colab": {
      "provenance": [],
      "include_colab_link": true
    },
    "kernelspec": {
      "name": "python3",
      "display_name": "Python 3"
    }
  },
  "nbformat": 4,
  "nbformat_minor": 5
}